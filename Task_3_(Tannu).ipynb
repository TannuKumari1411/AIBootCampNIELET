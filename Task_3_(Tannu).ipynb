{
  "nbformat": 4,
  "nbformat_minor": 0,
  "metadata": {
    "colab": {
      "provenance": []
    },
    "kernelspec": {
      "name": "python3",
      "display_name": "Python 3"
    },
    "language_info": {
      "name": "python"
    }
  },
  "cells": [
    {
      "cell_type": "markdown",
      "source": [
        "# Multiplication of two numbers"
      ],
      "metadata": {
        "id": "GR_3nGSLvGzV"
      }
    },
    {
      "cell_type": "code",
      "execution_count": 1,
      "metadata": {
        "colab": {
          "base_uri": "https://localhost:8080/"
        },
        "id": "TVT5Wbh5u0aZ",
        "outputId": "3c161655-3e50-4160-d0fc-1b654a0cf62a"
      },
      "outputs": [
        {
          "output_type": "stream",
          "name": "stdout",
          "text": [
            "Enter the first number:5\n",
            "Enter the second number:9\n",
            "Result = 45\n"
          ]
        }
      ],
      "source": [
        "a= int(input(\"Enter the first number:\"))\n",
        "b= int(input(\"Enter the second number:\"))\n",
        "c=a*b\n",
        "print(\"Result =\", c)"
      ]
    },
    {
      "cell_type": "markdown",
      "source": [],
      "metadata": {
        "id": "ujhaR6gHu8WD"
      }
    }
  ]
}