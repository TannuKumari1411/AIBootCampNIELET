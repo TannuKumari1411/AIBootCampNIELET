{
  "nbformat": 4,
  "nbformat_minor": 0,
  "metadata": {
    "colab": {
      "provenance": []
    },
    "kernelspec": {
      "name": "python3",
      "display_name": "Python 3"
    },
    "language_info": {
      "name": "python"
    }
  },
  "cells": [
    {
      "cell_type": "code",
      "source": [],
      "metadata": {
        "id": "GHkUMTMkt5B7"
      },
      "execution_count": null,
      "outputs": []
    },
    {
      "cell_type": "markdown",
      "source": [
        "#Addition"
      ],
      "metadata": {
        "id": "3C2vlzDrt321"
      }
    },
    {
      "cell_type": "code",
      "execution_count": 1,
      "metadata": {
        "colab": {
          "base_uri": "https://localhost:8080/"
        },
        "id": "v0h3APqPtuf5",
        "outputId": "bacedf92-075a-4b7c-a82c-a81b8471df0a"
      },
      "outputs": [
        {
          "output_type": "stream",
          "name": "stdout",
          "text": [
            "value of sum= 68\n"
          ]
        }
      ],
      "source": [
        "a=45\n",
        "b=23\n",
        "c=a+b\n",
        "print(\"value of sum=\",c)"
      ]
    }
  ]
}