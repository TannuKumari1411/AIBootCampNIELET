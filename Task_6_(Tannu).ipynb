{
  "nbformat": 4,
  "nbformat_minor": 0,
  "metadata": {
    "colab": {
      "provenance": []
    },
    "kernelspec": {
      "name": "python3",
      "display_name": "Python 3"
    },
    "language_info": {
      "name": "python"
    }
  },
  "cells": [
    {
      "cell_type": "markdown",
      "source": [
        "# Pandas"
      ],
      "metadata": {
        "id": "atXPFwZ5-wGz"
      }
    },
    {
      "cell_type": "code",
      "execution_count": 9,
      "metadata": {
        "colab": {
          "base_uri": "https://localhost:8080/"
        },
        "id": "XVJ4VY_q-qtD",
        "outputId": "b9bfb1ea-d654-4f51-a2f4-8d698d373a42"
      },
      "outputs": [
        {
          "output_type": "stream",
          "name": "stdout",
          "text": [
            "   s.no     NAME Address  Gender\n",
            "0    1.0   TANNU   Delhi     NaN\n",
            "1    2.0    Neha  Mumbai  Female\n",
            "2    3.0     NaN   Delhi  Female\n",
            "3    4.0   Priya     NaN  Female\n",
            "4    NaN  Sachin  Mumbai     NaN\n",
            "5    6.0   Rohit   Delhi    Male\n",
            "6    7.0   Rajan   Delhi    Male\n",
            "7    8.0     NaN  Mumbai     NaN\n",
            "8    9.0  Aniket     NaN    Male\n",
            "9   10.0   Mehak   Delhi  Female\n",
            "   s.no     NAME Address  Gender\n",
            "0    1.0   TANNU   Delhi     NaN\n",
            "1    2.0    Neha  Mumbai  Female\n",
            "2    3.0     NaN   Delhi  Female\n",
            "3    4.0   Priya     NaN  Female\n",
            "4    NaN  Sachin  Mumbai     NaN\n",
            "   s.no     NAME Address  Gender\n",
            "5    6.0   Rohit   Delhi    Male\n",
            "6    7.0   Rajan   Delhi    Male\n",
            "7    8.0     NaN  Mumbai     NaN\n",
            "8    9.0  Aniket     NaN    Male\n",
            "9   10.0   Mehak   Delhi  Female\n",
            "<class 'pandas.core.frame.DataFrame'>\n",
            "RangeIndex: 10 entries, 0 to 9\n",
            "Data columns (total 4 columns):\n",
            " #   Column   Non-Null Count  Dtype  \n",
            "---  ------   --------------  -----  \n",
            " 0   s.no     9 non-null      float64\n",
            " 1   NAME     8 non-null      object \n",
            " 2   Address  8 non-null      object \n",
            " 3   Gender   7 non-null      object \n",
            "dtypes: float64(1), object(3)\n",
            "memory usage: 452.0+ bytes\n",
            "None\n",
            "           s.no \n",
            "count   9.000000\n",
            "mean    5.555556\n",
            "std     3.205897\n",
            "min     1.000000\n",
            "25%     3.000000\n",
            "50%     6.000000\n",
            "75%     8.000000\n",
            "max    10.000000\n"
          ]
        }
      ],
      "source": [
        "import pandas as pd\n",
        "df= pd.read_excel(\"/Excelsheet.xlsx\")\n",
        "df= pd.read_excel(\"/Excelsheet.xlsx\")\n",
        "print (df)\n",
        "print (df.head())\n",
        "print (df.tail())\n",
        "print (df.info())\n",
        "print (df.describe())"
      ]
    }
  ]
}